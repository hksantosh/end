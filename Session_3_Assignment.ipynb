{
  "nbformat": 4,
  "nbformat_minor": 0,
  "metadata": {
    "colab": {
      "name": "Session 3 Assignment.ipynb",
      "provenance": [],
      "authorship_tag": "ABX9TyPQn9o/SjVWxOg/YsjrvCfJ",
      "include_colab_link": true
    },
    "kernelspec": {
      "name": "python3",
      "display_name": "Python 3"
    }
  },
  "cells": [
    {
      "cell_type": "markdown",
      "metadata": {
        "id": "view-in-github",
        "colab_type": "text"
      },
      "source": [
        "<a href=\"https://colab.research.google.com/github/hksantosh/end/blob/main/Session_3_Assignment.ipynb\" target=\"_parent\"><img src=\"https://colab.research.google.com/assets/colab-badge.svg\" alt=\"Open In Colab\"/></a>"
      ]
    },
    {
      "cell_type": "code",
      "metadata": {
        "id": "HkBAMVG6-4Xi"
      },
      "source": [
        "#####  1. Write a function using only list filter lambda that can tell whether a number is a Fibonacci number or not. \n",
        "#####     You can use a pre-calculated list/dict to store fab numbers till 10000"
      ],
      "execution_count": null,
      "outputs": []
    },
    {
      "cell_type": "code",
      "metadata": {
        "id": "rEPpVQEX_zyU",
        "outputId": "5e50177a-4ae0-4288-9201-a37bd726d8f5",
        "colab": {
          "base_uri": "https://localhost:8080/"
        }
      },
      "source": [
        "fib = [0, 1, 1, 2, 3, 5, 8, 13, 21, 34, 55, 89, 144, 233, 377, 610, 987, 1597, 2584, 4181, 6765]\n",
        "\n",
        "def is_fibonacci(y):\n",
        "  return True if list(filter(lambda x: x==y, fib)) else False\n",
        "\n",
        "print(is_fibonacci(10))"
      ],
      "execution_count": 43,
      "outputs": [
        {
          "output_type": "stream",
          "text": [
            "False\n"
          ],
          "name": "stdout"
        }
      ]
    }
  ]
}