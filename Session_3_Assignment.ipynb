{
  "nbformat": 4,
  "nbformat_minor": 0,
  "metadata": {
    "colab": {
      "name": "Session 3 Assignment.ipynb",
      "provenance": [],
      "authorship_tag": "ABX9TyPOT9CLG2nUwXoSUnFZuxrG",
      "include_colab_link": true
    },
    "kernelspec": {
      "name": "python3",
      "display_name": "Python 3"
    }
  },
  "cells": [
    {
      "cell_type": "markdown",
      "metadata": {
        "id": "view-in-github",
        "colab_type": "text"
      },
      "source": [
        "<a href=\"https://colab.research.google.com/github/hksantosh/end/blob/main/Session_3_Assignment.ipynb\" target=\"_parent\"><img src=\"https://colab.research.google.com/assets/colab-badge.svg\" alt=\"Open In Colab\"/></a>"
      ]
    },
    {
      "cell_type": "code",
      "metadata": {
        "id": "HkBAMVG6-4Xi",
        "outputId": "73f1c16f-d08f-489e-d837-fd6c043f436f",
        "colab": {
          "base_uri": "https://localhost:8080/"
        }
      },
      "source": [
        "#####  1. Write a function using only list filter lambda that can tell whether a number is a Fibonacci number or not. \n",
        "#    You can use a pre-calculated list/dict to store fab numbers till 10000\n",
        "\n",
        "fib = [0, 1, 1, 2, 3, 5, 8, 13, 21, 34, 55, 89, 144, 233, 377, 610, 987, 1597, 2584, 4181, 6765]\n",
        "\n",
        "def is_fibonacci(y):\n",
        "  return True if list(filter(lambda x: x==y, fib)) else False\n",
        "\n",
        "print(is_fibonacci(10))"
      ],
      "execution_count": 64,
      "outputs": [
        {
          "output_type": "stream",
          "text": [
            "False\n"
          ],
          "name": "stdout"
        }
      ]
    },
    {
      "cell_type": "code",
      "metadata": {
        "id": "BUDmKFynJmJf",
        "outputId": "6c6a9183-30fd-445a-f6d2-77e0b5026e50",
        "colab": {
          "base_uri": "https://localhost:8080/"
        }
      },
      "source": [
        "#####  2. Using list comprehension (and zip/lambda/etc if required) write five different expressions that\n",
        "\n",
        "# add 2 iterables a and b such that a is even and b is odd\n",
        "# Take even from first array, take odd from the other array, and add them\n",
        "lst1 = [64, 69, 74, 64, 35, 33, 43, 49, 49, 40]\n",
        "lst2 = [78, 91, 66, 95, 26, 98, 74, 48, 92, 38]\n",
        "print(sum([x for x in lst1 if x%2==0])+sum([x for x in lst2 if x%2!=0]))\n",
        "\n",
        "\n",
        "# strips every vowel from a string provided (tsai>>t s)\n",
        "txt = 'TSAI'\n",
        "print([x for x in txt if x not in ['a','e','i','o','u','A','E','I','O','U']])\n",
        "\n",
        "\n",
        "# acts like a ReLU function for a 1D array\n",
        "arr = [64, -69, 74, 64, -35, 33, 43, -49, 49, 40]\n",
        "print([x if x>0 else 0 for x in arr])\n",
        "\n",
        "\n",
        "# acts like a sigmoid function for a 1D array\n",
        "arr = [1,2,3,4,5,6]\n",
        "print([1/(1+(2.718281828459045**-x)) for x in arr])\n",
        "\n",
        "\n",
        "# takes a small character string and shifts all characters by 5 (handle boundary conditions) tsai>>yxfn\n",
        "txt = 'tsAI'\n",
        "print([chr(ord(x)+5) for x in txt])"
      ],
      "execution_count": 74,
      "outputs": [
        {
          "output_type": "stream",
          "text": [
            "428\n",
            "['T', 'S']\n",
            "[64, 0, 74, 64, 0, 33, 43, 0, 49, 40]\n",
            "[64, 0, 74, 64, 0, 33, 43, 0, 49, 40]\n",
            "[0.7310585786300049, 0.8807970779778823, 0.9525741268224331, 0.9820137900379085, 0.9933071490757153, 0.9975273768433653]\n",
            "['y', 'x', 'F', 'N']\n"
          ],
          "name": "stdout"
        }
      ]
    },
    {
      "cell_type": "code",
      "metadata": {
        "id": "Ae1KqDXvg8ly",
        "outputId": "0bc4ded4-8809-4409-8470-ef2e5df5853b",
        "colab": {
          "base_uri": "https://localhost:8080/"
        }
      },
      "source": [
        "#### 3. A list comprehension expression that takes a ~200 word paragraph (write your own paragraph to check), \n",
        "####  and checks whether it has any of the swear words\n",
        "swears = ['4r5e','5h1t','5hit','a55','anal','anus','ar5e','arrse','arse','ass','ass-fucker','asses','assfucker',\n",
        "          'assfukka','asshole','assholes','asswhole','a_s_s','b!tch','b00bs','b17ch','b1tch','ballbag','balls',\n",
        "          'ballsack','bastard','beastial','beastiality','bellend','bestial','bestiality','bi+ch','biatch',\n",
        "          'bitch','bitcher','bitchers','bitches','bitchin','bitching','bloody','blow job','blowjob','blowjobs',\n",
        "          'boiolas','bollock','bollok','boner','boob','boobs','booobs','boooobs','booooobs','booooooobs',\n",
        "          'breasts','buceta','bugger','bum','bunny fucker','butt','butthole','buttmunch','buttplug','c0ck',\n",
        "          'c0cksucker','carpet muncher','cawk','chink','cipa','cl1t','clit','clitoris','clits','cnut','cock',\n",
        "          'cock-sucker','cockface','cockhead','cockmunch','cockmuncher','cocks','cocksuck','cocksucked',\n",
        "          'cocksucker','cocksucking','cocksucks','cocksuka','cocksukka','cok','cokmuncher','coksucka','coon',\n",
        "          'cox','crap','cum','cummer','cumming','cums','cumshot','cunilingus','cunillingus','cunnilingus','cunt',\n",
        "          'cuntlick','cuntlicker','cuntlicking','cunts','cyalis','cyberfuc','cyberfuck','cyberfucked','cyberfucker',\n",
        "          'cyberfuckers','cyberfucking','d1ck','damn','dick','dickhead','dildo','dildos','dink','dinks','dirsa',\n",
        "          'dlck','dog-fucker','doggin','dogging','donkeyribber','doosh','duche','dyke','ejaculate','ejaculated',\n",
        "          'ejaculates','ejaculating','ejaculatings','ejaculation','ejakulate','f u c k','f u c k e r','f4nny','fag',\n",
        "          'fagging','faggitt','faggot','faggs','fagot','fagots','fags','fanny','fannyflaps','fannyfucker','fanyy',\n",
        "          'fatass','fcuk','fcuker','fcuking','feck','fecker','felching','fellate','fellatio','fingerfuck','fingerfucked',\n",
        "          'fingerfucker','fingerfuckers','fingerfucking','fingerfucks','fistfuck','fistfucked','fistfucker','fistfuckers',\n",
        "          'fistfucking','fistfuckings','fistfucks','flange','fook','fooker','fuck','fucka','fucked','fucker','fuckers',\n",
        "          'fuckhead','fuckheads','fuckin','fucking','fuckings','fuckingshitmotherfucker','fuckme','fucks','fuckwhit',\n",
        "          'fuckwit','fudge packer','fudgepacker','fuk','fuker','fukker','fukkin','fuks','fukwhit','fukwit','fux','fux0r',\n",
        "          'f_u_c_k','gangbang','gangbanged','gangbangs','gaylord','gaysex','goatse','God','god-dam','god-damned','goddamn',\n",
        "          'goddamned','hardcoresex','hell','heshe','hoar','hoare','hoer','homo','hore','horniest','horny','hotsex',\n",
        "          'jack-off','jackoff','jap','jerk-off','jism','jiz','jizm','jizz','kawk','knob','knobead','knobed','knobend',\n",
        "          'knobhead','knobjocky','knobjokey','kock','kondum','kondums','kum','kummer','kumming','kums','kunilingus',\n",
        "          'l3i+ch','l3itch','labia','lmfao','lust','lusting','m0f0','m0fo','m45terbate','ma5terb8','ma5terbate',\n",
        "          'masochist','master-bate','masterb8','masterbat*','masterbat3','masterbate','masterbation','masterbations',\n",
        "          'masturbate','mo-fo','mof0','mofo','mothafuck','mothafucka','mothafuckas','mothafuckaz','mothafucked',\n",
        "          'mothafucker','mothafuckers','mothafuckin','mothafucking','mothafuckings','mothafucks','mother fucker',\n",
        "          'motherfuck','motherfucked','motherfucker','motherfuckers','motherfuckin','motherfucking','motherfuckings',\n",
        "          'motherfuckka','motherfucks','muff','mutha','muthafecker','muthafuckker','muther','mutherfucker','n1gga',\n",
        "          'n1gger','nazi','nigg3r','nigg4h','nigga','niggah','niggas','niggaz','nigger','niggers','nob','nob jokey',\n",
        "          'nobhead','nobjocky','nobjokey','numbnuts','nutsack','orgasim','orgasims','orgasm','orgasms','p0rn','pawn',\n",
        "          'pecker','penis','penisfucker','phonesex','phuck','phuk','phuked','phuking','phukked','phukking','phuks','phuq',\n",
        "          'pigfucker','pimpis','piss','pissed','pisser','pissers','pisses','pissflaps','pissin','pissing','pissoff','poop',\n",
        "          'porn','porno','pornography','pornos','prick','pricks','pron','pube','pusse','pussi','pussies','pussy','pussys',\n",
        "          'rectum','retard','rimjaw','rimming','s hit','s.o.b.','sadist','schlong','screwing','scroat','scrote','scrotum',\n",
        "          'semen','sex','sh!+','sh!t','sh1t','shag','shagger','shaggin','shagging','shemale','shi+','shit','shitdick',\n",
        "          'shite','shited','shitey','shitfuck','shitfull','shithead','shiting','shitings','shits','shitted','shitter',\n",
        "          'shitters','shitting','shittings','shitty','skank','slut','sluts','smegma','smut','snatch','son-of-a-bitch',\n",
        "          'spac','spunk','s_h_i_t','t1tt1e5','t1tties','teets','teez','testical','testicle','tit','titfuck','tits','titt',\n",
        "          'tittie5','tittiefucker','titties','tittyfuck','tittywank','titwank','tosser','turd','tw4t','twat','twathead',\n",
        "          'twatty','twunt','twunter','v14gra','v1gra','vagina','viagra','vulva','w00se','wang','wank','wanker','wanky',\n",
        "          'whoar','whore','willies','willy','xrated','xxx']\n",
        "\n",
        "text = 'As the billionaire\\'s xrated head for a bitter split, they are already preparing for their next battle: the value of a stake in Tata Sons Pvt., which is at the center of India’s biggest corporate feud.\\n\\nThe Mistry family-owned Shapoorji Pallonji Group holds 18.4% of the holding company of the software-to-trucks Tata empire, and wants to sell it and raise funds for its own cash-strapped businesses. It had previously sought to pledge the shares as collateral, but was blocked this week when Tata told the Supreme Court it was open to buying the stock itself if Mistrys needed money.\\n\\nBut the focus of the years-long dispute could now shift to what each party thinks is the fair valuation of the stake. While court filings peg it at more than 1.5 trillion rupees ($20.3 billion), the eventual deal value will depend on which side can drive a hard bargain.\\n\\nThe indebted SP Group, with upcoming debt maturities, may prefer a quick deal. Even at depressed valuations, it won’t be easy for the Tata Group or any other investor to fork out such a sum at a time when many economies, including India’s, have been ravaged by the coronavirus pandemic.\\n\\n“The parting of ways will lie in the details as it is not clear they will quickly agree to a valuation,” said Shriram Subramanian, founder of proxy advisory firm InGovern Research Services Pvt. in Bangalore. “Additionally, Tata group is in no hurry while the SP group is hard-pressed for funding.”.\\nEasy exit\\nFor outside investors, the initial charm of buying into the holding company of the $113 billion conglomerate quickly fades when they see Tata Sons is closely held.'\n",
        "\n",
        "# print([x for x in text])\n",
        "print(True if [True for x in text.split() if x in swears] else False)\n"
      ],
      "execution_count": 95,
      "outputs": [
        {
          "output_type": "stream",
          "text": [
            "True\n"
          ],
          "name": "stdout"
        }
      ]
    },
    {
      "cell_type": "code",
      "metadata": {
        "id": "2zISyazlqZNS",
        "outputId": "140299c2-8d3b-4591-a9f9-c3b4238b4a7b",
        "colab": {
          "base_uri": "https://localhost:8080/"
        }
      },
      "source": [
        "#####  4. Using reduce functions: PTS:100\n",
        "import functools\n",
        "\n",
        "# add only even numbers in a list\n",
        "arr = [47,11,42,102,13]\n",
        "print(functools.reduce(lambda x, y: x+y, [x for x in arr if x%2==0]))\n",
        "\n",
        "# find the biggest character in a string (printable ascii characters)\n",
        "text = 'billionaire'\n",
        "print(functools.reduce(lambda x, y: x if ord(x)>ord(y) else y, [x for x in text]))\n",
        "\n",
        "# adds every 3rd number in a list\n",
        "lst = [47,11,42,102,13,234,45,867]\n",
        "print(functools.reduce(lambda x, y: x+y, [lst[i] for i in range(2, len(lst), 3)]))"
      ],
      "execution_count": 108,
      "outputs": [
        {
          "output_type": "stream",
          "text": [
            "144\n",
            "r\n",
            "276\n"
          ],
          "name": "stdout"
        }
      ]
    },
    {
      "cell_type": "code",
      "metadata": {
        "id": "a0b-tCtevdFh",
        "outputId": "d2b8395e-bd7e-4702-d99f-89bb1e18626e",
        "colab": {
          "base_uri": "https://localhost:8080/"
        }
      },
      "source": [
        "######## 5. Using randint, random.choice and list comprehensions, write an expression that generates 15 random KADDAADDDD number plates,\n",
        "########    where KA is fixed, D stands for a digit, and A stands for Capital alphabets. 10<<DD<<99 & 1000<<DDDD<<9999 \n",
        "import random\n",
        "import string\n",
        "\n",
        "print(['KA'+str(random.randint(10,99))+''.join(random.choice(string.ascii_uppercase) for i in range(2))+str(random.randint(1000,9999)) for i in range(15)])"
      ],
      "execution_count": 127,
      "outputs": [
        {
          "output_type": "stream",
          "text": [
            "['KA63JO8928', 'KA61BZ8548', 'KA57SM8339', 'KA73TM2292', 'KA54XQ6030', 'KA12FU6563', 'KA95TL2550', 'KA26LK7476', 'KA23ZE9608', 'KA43FG3828', 'KA96SS6540', 'KA37SP2970', 'KA91CU4302', 'KA34QR9416', 'KA41VK1160']\n"
          ],
          "name": "stdout"
        }
      ]
    },
    {
      "cell_type": "code",
      "metadata": {
        "id": "AUchxI4yyZdQ",
        "outputId": "ab4ee362-0fba-44f7-c8ca-b55b1a502b86",
        "colab": {
          "base_uri": "https://localhost:8080/"
        }
      },
      "source": [
        "############ 6. Write the above again from scratch where KA can be changed to DL, and 1000/9999 ranges can be provided\n",
        "import random\n",
        "import string\n",
        "\n",
        "def generate_dl(prfx='KA',st=1000,end=9999):\n",
        "  return [prfx+str(random.randint(10,99))+''.join(random.choice(string.ascii_uppercase) for i in range(2))+str(random.randint(st,end)) for i in range(15)]\n",
        "\n",
        "print(generate_dl('DL'))\n",
        "print(generate_dl('DL',5000,5010))"
      ],
      "execution_count": 133,
      "outputs": [
        {
          "output_type": "stream",
          "text": [
            "['DL12SA5574', 'DL13YY3514', 'DL46DP4455', 'DL29CC3567', 'DL46UH4209', 'DL43ZY5303', 'DL41ME5019', 'DL16HK5722', 'DL90ZC6020', 'DL76FA8416', 'DL88QU8562', 'DL32IF8103', 'DL35DQ8607', 'DL23GB3622', 'DL16PW4155']\n",
            "['DL34NK5009', 'DL67ED5005', 'DL44UU5009', 'DL73KB5000', 'DL45BB5009', 'DL74SI5005', 'DL51AU5000', 'DL80XG5000', 'DL54CM5008', 'DL87SB5002', 'DL71UD5003', 'DL56IA5002', 'DL56WB5007', 'DL24WF5007', 'DL34CT5010']\n"
          ],
          "name": "stdout"
        }
      ]
    },
    {
      "cell_type": "code",
      "metadata": {
        "id": "YOV7KnFN1lJP"
      },
      "source": [
        ""
      ],
      "execution_count": 177,
      "outputs": []
    }
  ]
}