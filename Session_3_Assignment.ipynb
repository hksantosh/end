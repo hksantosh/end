{
  "nbformat": 4,
  "nbformat_minor": 0,
  "metadata": {
    "colab": {
      "name": "Session 3 Assignment.ipynb",
      "provenance": [],
      "authorship_tag": "ABX9TyMZmzSvKDLiGEdpg5wU7bmD",
      "include_colab_link": true
    },
    "kernelspec": {
      "name": "python3",
      "display_name": "Python 3"
    }
  },
  "cells": [
    {
      "cell_type": "markdown",
      "metadata": {
        "id": "view-in-github",
        "colab_type": "text"
      },
      "source": [
        "<a href=\"https://colab.research.google.com/github/hksantosh/end/blob/main/Session_3_Assignment.ipynb\" target=\"_parent\"><img src=\"https://colab.research.google.com/assets/colab-badge.svg\" alt=\"Open In Colab\"/></a>"
      ]
    },
    {
      "cell_type": "code",
      "metadata": {
        "id": "HkBAMVG6-4Xi",
        "outputId": "73f1c16f-d08f-489e-d837-fd6c043f436f",
        "colab": {
          "base_uri": "https://localhost:8080/"
        }
      },
      "source": [
        "#####  1. Write a function using only list filter lambda that can tell whether a number is a Fibonacci number or not. \n",
        "#    You can use a pre-calculated list/dict to store fab numbers till 10000\n",
        "\n",
        "fib = [0, 1, 1, 2, 3, 5, 8, 13, 21, 34, 55, 89, 144, 233, 377, 610, 987, 1597, 2584, 4181, 6765]\n",
        "\n",
        "def is_fibonacci(y):\n",
        "  return True if list(filter(lambda x: x==y, fib)) else False\n",
        "\n",
        "print(is_fibonacci(10))"
      ],
      "execution_count": 64,
      "outputs": [
        {
          "output_type": "stream",
          "text": [
            "False\n"
          ],
          "name": "stdout"
        }
      ]
    },
    {
      "cell_type": "code",
      "metadata": {
        "id": "BUDmKFynJmJf",
        "outputId": "1456808b-2f11-45f3-e350-878b92efd9f4",
        "colab": {
          "base_uri": "https://localhost:8080/"
        }
      },
      "source": [
        "#####  2. Using list comprehension (and zip/lambda/etc if required) write five different expressions that\n",
        "\n",
        "# add 2 iterables a and b such that a is even and b is odd\n",
        "# Take even from first array, take odd from the other array, and add them\n",
        "lst1 = [64, 69, 74, 64, 35, 33, 43, 49, 49, 40]\n",
        "lst2 = [78, 91, 66, 95, 26, 98, 74, 48, 92, 38]\n",
        "print(sum([x for x in lst1 if x%2==0])+sum([x for x in lst2 if x%2!=0]))\n",
        "\n",
        "\n",
        "# strips every vowel from a string provided (tsai>>t s)\n",
        "txt = 'TSAI'\n",
        "print([x for x in txt if x not in ['a','e','i','o','u','A','E','I','O','U']])\n",
        "\n",
        "\n",
        "# acts like a ReLU function for a 1D array\n",
        "arr = [64, -69, 74, 64, -35, 33, 43, -49, 49, 40]\n",
        "print(list(map(lambda x: x if x>0 else 0,arr)))\n",
        "\n",
        "\n",
        "# acts like a sigmoid function for a 1D array\n",
        "arr = [1,2,3,4,5,6]\n",
        "print([1/(1+(2.718281828459045**-x)) for x in arr])\n",
        "\n",
        "# takes a small character string and shifts all characters by 5 (handle boundary conditions) tsai>>yxfn\n",
        "txt = 'tsAI'\n",
        "print([chr(ord(x)+5) for x in txt])"
      ],
      "execution_count": 65,
      "outputs": [
        {
          "output_type": "stream",
          "text": [
            "428\n",
            "['T', 'S']\n",
            "[64, 0, 74, 64, 0, 33, 43, 0, 49, 40]\n",
            "[0.7310585786300049, 0.8807970779778823, 0.9525741268224331, 0.9820137900379085, 0.9933071490757153, 0.9975273768433653]\n",
            "['y', 'x', 'F', 'N']\n"
          ],
          "name": "stdout"
        }
      ]
    },
    {
      "cell_type": "code",
      "metadata": {
        "id": "Ae1KqDXvg8ly"
      },
      "source": [
        "#### 3. A list comprehension expression that takes a ~200 word paragraph (write your own paragraph to check), and checks whether it has any of the swear words\n",
        "\n",
        "\n",
        "swears = ['4r5e','5h1t','5hit','a55','anal','anus','ar5e','arrse','arse','ass','ass-fucker','asses','assfucker','assfukka','asshole','assholes','asswhole','a_s_s','b!tch','b00bs','b17ch','b1tch','ballbag','balls','ballsack','bastard','beastial','beastiality','bellend','bestial','bestiality','bi+ch','biatch','bitch','bitcher','bitchers','bitches','bitchin','bitching','bloody','blow job','blowjob','blowjobs','boiolas','bollock','bollok','boner','boob','boobs','booobs','boooobs','booooobs','booooooobs','breasts','buceta','bugger','bum','bunny fucker','butt','butthole','buttmunch','buttplug','c0ck','c0cksucker','carpet muncher','cawk','chink','cipa','cl1t','clit','clitoris','clits','cnut','cock','cock-sucker','cockface','cockhead','cockmunch','cockmuncher','cocks','cocksuck','cocksucked','cocksucker','cocksucking','cocksucks','cocksuka','cocksukka','cok','cokmuncher','coksucka','coon','cox','crap','cum','cummer','cumming','cums','cumshot','cunilingus','cunillingus','cunnilingus','cunt','cuntlick','cuntlicker','cuntlicking','cunts','cyalis','cyberfuc','cyberfuck','cyberfucked','cyberfucker','cyberfuckers','cyberfucking','d1ck','damn','dick','dickhead','dildo','dildos','dink','dinks','dirsa','dlck','dog-fucker','doggin','dogging','donkeyribber','doosh','duche','dyke','ejaculate','ejaculated','ejaculates','ejaculating','ejaculatings','ejaculation','ejakulate','f u c k','f u c k e r','f4nny','fag','fagging','faggitt','faggot','faggs','fagot','fagots','fags','fanny','fannyflaps','fannyfucker','fanyy','fatass','fcuk','fcuker','fcuking','feck','fecker','felching','fellate','fellatio','fingerfuck','fingerfucked','fingerfucker','fingerfuckers','fingerfucking','fingerfucks','fistfuck','fistfucked','fistfucker','fistfuckers','fistfucking','fistfuckings','fistfucks','flange','fook','fooker','fuck','fucka','fucked','fucker','fuckers','fuckhead','fuckheads','fuckin','fucking','fuckings','fuckingshitmotherfucker','fuckme','fucks','fuckwhit','fuckwit','fudge packer','fudgepacker','fuk','fuker','fukker','fukkin','fuks','fukwhit','fukwit','fux','fux0r','f_u_c_k','gangbang','gangbanged','gangbangs','gaylord','gaysex','goatse','God','god-dam','god-damned','goddamn','goddamned','hardcoresex','hell','heshe','hoar','hoare','hoer','homo','hore','horniest','horny','hotsex','jack-off','jackoff','jap','jerk-off','jism','jiz','jizm','jizz','kawk','knob','knobead','knobed','knobend','knobhead','knobjocky','knobjokey','kock','kondum','kondums','kum','kummer','kumming','kums','kunilingus','l3i+ch','l3itch','labia','lmfao','lust','lusting','m0f0','m0fo','m45terbate','ma5terb8','ma5terbate','masochist','master-bate','masterb8','masterbat*','masterbat3','masterbate','masterbation','masterbations','masturbate','mo-fo','mof0','mofo','mothafuck','mothafucka','mothafuckas','mothafuckaz','mothafucked','mothafucker','mothafuckers','mothafuckin','mothafucking','mothafuckings','mothafucks','mother fucker','motherfuck','motherfucked','motherfucker','motherfuckers','motherfuckin','motherfucking','motherfuckings','motherfuckka','motherfucks','muff','mutha','muthafecker','muthafuckker','muther','mutherfucker','n1gga','n1gger','nazi','nigg3r','nigg4h','nigga','niggah','niggas','niggaz','nigger','niggers','nob','nob jokey','nobhead','nobjocky','nobjokey','numbnuts','nutsack','orgasim','orgasims','orgasm','orgasms','p0rn','pawn','pecker','penis','penisfucker','phonesex','phuck','phuk','phuked','phuking','phukked','phukking','phuks','phuq','pigfucker','pimpis','piss','pissed','pisser','pissers','pisses','pissflaps','pissin','pissing','pissoff','poop','porn','porno','pornography','pornos','prick','pricks','pron','pube','pusse','pussi','pussies','pussy','pussys','rectum','retard','rimjaw','rimming','s hit','s.o.b.','sadist','schlong','screwing','scroat','scrote','scrotum','semen','sex','sh!+','sh!t','sh1t','shag','shagger','shaggin','shagging','shemale','shi+','shit','shitdick','shite','shited','shitey','shitfuck','shitfull','shithead','shiting','shitings','shits','shitted','shitter','shitters','shitting','shittings','shitty','skank','slut','sluts','smegma','smut','snatch','son-of-a-bitch','spac','spunk','s_h_i_t','t1tt1e5','t1tties','teets','teez','testical','testicle','tit','titfuck','tits','titt','tittie5','tittiefucker','titties','tittyfuck','tittywank','titwank','tosser','turd','tw4t','twat','twathead','twatty','twunt','twunter','v14gra','v1gra','vagina','viagra','vulva','w00se','wang','wank','wanker','wanky','whoar','whore','willies','willy','xrated','xxx']"
      ],
      "execution_count": null,
      "outputs": []
    }
  ]
}